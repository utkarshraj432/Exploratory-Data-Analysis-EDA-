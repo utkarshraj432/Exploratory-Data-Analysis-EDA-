{
 "cells": [
  {
   "cell_type": "markdown",
   "id": "23b2d0e0",
   "metadata": {},
   "source": [
    "# Exploratory Data Analysis of World Happiness Report 2021"
   ]
  },
  {
   "cell_type": "markdown",
   "id": "09733156",
   "metadata": {},
   "source": [
    "Importing necessary libaries"
   ]
  },
  {
   "cell_type": "code",
   "execution_count": null,
   "id": "d6d6544a",
   "metadata": {},
   "outputs": [],
   "source": [
    "import numpy as np\n",
    "import pandas as pd\n",
    "import seaborn as sb\n",
    "import matplotlib.pyplot as plt"
   ]
  },
  {
   "cell_type": "markdown",
   "id": "3f895470",
   "metadata": {},
   "source": [
    "setting the style of plot"
   ]
  },
  {
   "cell_type": "code",
   "execution_count": null,
   "id": "5596fcaa",
   "metadata": {},
   "outputs": [],
   "source": [
    "sb.set_style('darkgrid')\n",
    "plt.rcParams['font.size'] = 15\n",
    "plt.rcParams['figure.figsize'] = (10, 7)\n",
    "plt.rcParams['figure.facecolor'] = '#FFE5B4' "
   ]
  },
  {
   "cell_type": "code",
   "execution_count": null,
   "id": "78051591",
   "metadata": {},
   "outputs": [],
   "source": [
    "data = pd.read_csv('DFF.csv')\n",
    "data.head()"
   ]
  },
  {
   "cell_type": "code",
   "execution_count": null,
   "id": "62a53284",
   "metadata": {},
   "outputs": [],
   "source": [
    "data_col = ['Country name', 'Regional indicator', 'Ladder score', 'Logged GDP per capita', 'Social support', 'Healthy life expectancy', 'Freedom to make life choices', 'Generosity', 'Perceptions of corruption']"
   ]
  },
  {
   "cell_type": "code",
   "execution_count": null,
   "id": "68a4c498",
   "metadata": {},
   "outputs": [],
   "source": [
    "data = data[data_col].copy()\n",
    "data.head()"
   ]
  },
  {
   "cell_type": "code",
   "execution_count": null,
   "id": "55f1cd0e",
   "metadata": {},
   "outputs": [],
   "source": [
    "happy_df = data.rename( columns = {'Country name':'Country_name',\n",
    "                        'Regional indicator':'Regional_indicator',\n",
    "                        'Ladder score':'Happiness_score',\n",
    "                        'Logged GDP per capita':'Logged_GDP_per_capita',\n",
    "                        'Social support':'Social_support',\n",
    "                        'Healthy life expectancy':'Healthy_life_expectancy',\n",
    "                        'Freedom to make life choices':'Freedom_to_make_life_choices',\n",
    "                        'Perceptions of corruption':'Perceptions_of_corruption'} )\n",
    "\n",
    "happy_df.head()"
   ]
  },
  {
   "cell_type": "code",
   "execution_count": null,
   "id": "ed5f9f49",
   "metadata": {},
   "outputs": [],
   "source": [
    "happy_df.isnull().sum()"
   ]
  },
  {
   "cell_type": "markdown",
   "id": "8092fb6b",
   "metadata": {},
   "source": [
    "Scatter plot between Happiness score and GDP"
   ]
  },
  {
   "cell_type": "code",
   "execution_count": null,
   "id": "c77b878b",
   "metadata": {},
   "outputs": [],
   "source": [
    "plt.rcParams['figure.figsize'] = (14, 7)\n",
    "plt.title('Plot between Happiness score and GDP')\n",
    "sb.scatterplot(x = happy_df.Happiness_score, y = happy_df.Logged_GDP_per_capita, hue = happy_df.Regional_indicator, s = 180)\n",
    "\n",
    "plt.legend(loc = 'upper left', fontsize = 10)\n",
    "plt.xlabel('Happyness score')\n",
    "plt.ylabel('GDP per capita')"
   ]
  },
  {
   "cell_type": "markdown",
   "id": "1946ae98",
   "metadata": {},
   "source": [
    "Logged GDP per capita of countries Region wise"
   ]
  },
  {
   "cell_type": "code",
   "execution_count": null,
   "id": "f05128a7",
   "metadata": {},
   "outputs": [],
   "source": [
    "gdp_region = happy_df.groupby('Regional_indicator')['Logged_GDP_per_capita'].sum()\n",
    "print(gdp_region)"
   ]
  },
  {
   "cell_type": "markdown",
   "id": "411a7826",
   "metadata": {},
   "source": [
    "Pie chart to show GDP by Region wise"
   ]
  },
  {
   "cell_type": "code",
   "execution_count": null,
   "id": "dde47547",
   "metadata": {},
   "outputs": [],
   "source": [
    "gdp_region.plot.pie(autopct = '%1.1f%%')\n",
    "plt.title('GDP by Region')\n",
    "plt.ylabel('')"
   ]
  },
  {
   "cell_type": "markdown",
   "id": "b16f5967",
   "metadata": {},
   "source": [
    "Total number of countries in each region"
   ]
  },
  {
   "cell_type": "code",
   "execution_count": null,
   "id": "7f1c547e",
   "metadata": {},
   "outputs": [],
   "source": [
    "total_country = happy_df.groupby('Regional_indicator')[['Country_name']].count()\n",
    "print(total_country)"
   ]
  },
  {
   "cell_type": "markdown",
   "id": "dc68c221",
   "metadata": {},
   "source": [
    "Correlation Map or matrix"
   ]
  },
  {
   "cell_type": "code",
   "execution_count": null,
   "id": "9e410090",
   "metadata": {},
   "outputs": [],
   "source": [
    "cor = happy_df.corr(method = \"pearson\")\n",
    "f, ax = plt.subplots(figsize = (10, 5))\n",
    "sb.heatmap(cor, mask = np.zeros_like(cor, dtype=np), cmap=\"Blues\", square=True, ax=ax)"
   ]
  },
  {
   "cell_type": "markdown",
   "id": "043f887b",
   "metadata": {},
   "source": [
    "Corruption in different Regions"
   ]
  },
  {
   "cell_type": "code",
   "execution_count": null,
   "id": "5751b2b6",
   "metadata": {},
   "outputs": [],
   "source": [
    "corruption = happy_df.groupby('Regional_indicator')[['Perceptions_of_corruption']].mean()\n",
    "print(corruption)"
   ]
  },
  {
   "cell_type": "markdown",
   "id": "7be54e5a",
   "metadata": {},
   "source": [
    "Bar graph to show the perception of corruption in various Regions"
   ]
  },
  {
   "cell_type": "code",
   "execution_count": null,
   "id": "1e8cbf0e",
   "metadata": {},
   "outputs": [],
   "source": [
    "plt.rcParams['figure.figsize'] = (12, 7)\n",
    "plt.title('Perception of corruption in various Regions', fontsize = 20)\n",
    "plt.xlabel('Regions', fontsize = 18)\n",
    "plt.ylabel('Corruption Index', fontsize = 18)\n",
    "plt.xticks(rotation = 40, ha = 'right')\n",
    "plt.bar(corruption.index, corruption.Perceptions_of_corruption)"
   ]
  },
  {
   "cell_type": "markdown",
   "id": "e2b150f7",
   "metadata": {},
   "source": [
    "Top 10 Happiest Countries and Bottom 10 least Happiest Counrties"
   ]
  },
  {
   "cell_type": "code",
   "execution_count": null,
   "id": "97b17122",
   "metadata": {},
   "outputs": [],
   "source": [
    "top_10 = happy_df.head(10)\n",
    "bottom_10 = happy_df.tail(10)"
   ]
  },
  {
   "cell_type": "code",
   "execution_count": null,
   "id": "8a499960",
   "metadata": {},
   "outputs": [],
   "source": [
    "plt.rcParams['figure.figsize'] = (10, 5)\n",
    "plt.title('Top 10 happiest counties life expectancy', fontsize = 20)\n",
    "plt.xlabel('Country name', fontsize = 18)\n",
    "plt.ylabel('Life Expectancy', fontsize = 18)\n",
    "plt.xticks(rotation = 40, ha = 'right')\n",
    "plt.bar(top_10.Country_name, top_10.Healthy_life_expectancy)"
   ]
  },
  {
   "cell_type": "code",
   "execution_count": null,
   "id": "4ff4a057",
   "metadata": {},
   "outputs": [],
   "source": [
    "plt.rcParams['figure.figsize'] = (10, 5)\n",
    "plt.title('Bottom 10 least happiest counties Life Expectancy', fontsize = 20)\n",
    "plt.xlabel('Country name', fontsize = 18)\n",
    "plt.ylabel('Life Expectancy', fontsize = 18)\n",
    "plt.xticks(rotation = 40, ha = 'right')\n",
    "plt.bar(bottom_10.Country_name, bottom_10.Healthy_life_expectancy, color='tomato')\n"
   ]
  },
  {
   "cell_type": "markdown",
   "id": "2069dc22",
   "metadata": {},
   "source": [
    "Scatter plot between Happiness score and Freedom to make life choice"
   ]
  },
  {
   "cell_type": "code",
   "execution_count": null,
   "id": "e9633cc2",
   "metadata": {},
   "outputs": [],
   "source": [
    "plt.rcParams['figure.figsize'] = (14, 7)\n",
    "plt.title('Plot between Happiness score and Freedom to make life choice')\n",
    "sb.scatterplot(x = happy_df.Freedom_to_make_life_choices, y = happy_df.Happiness_score, hue = happy_df.Regional_indicator, s = 180)\n",
    "plt.legend(loc = 'upper left', fontsize = 10)\n",
    "plt.xlabel('Freedom to make life choices')\n",
    "plt.ylabel('Happyness score')"
   ]
  },
  {
   "cell_type": "markdown",
   "id": "8ddc2898",
   "metadata": {},
   "source": [
    "Bar plot to show the Countries with Least Perceptions of Corruption"
   ]
  },
  {
   "cell_type": "code",
   "execution_count": null,
   "id": "3b757175",
   "metadata": {},
   "outputs": [],
   "source": [
    "country = happy_df.sort_values(by='Perceptions_of_corruption').head(10)\n",
    "plt.rcParams['figure.figsize'] = (12,5)\n",
    "plt.title('Countries with Least Perceptions of Corruption')\n",
    "plt.xlabel('Country', fontsize = 15)\n",
    "plt.ylabel('Corruption Index', fontsize = 15)\n",
    "plt.xticks(rotation = 30, ha='right')\n",
    "plt.bar(country.Country_name, country.Perceptions_of_corruption, color='darkorange')"
   ]
  },
  {
   "cell_type": "markdown",
   "id": "2032d579",
   "metadata": {},
   "source": [
    "Bar plot to show the Countries with Most Perceptions of Corruption"
   ]
  },
  {
   "cell_type": "code",
   "execution_count": null,
   "id": "a00e9b5c",
   "metadata": {},
   "outputs": [],
   "source": [
    "country = happy_df.sort_values(by='Perceptions_of_corruption').tail(10)\n",
    "plt.rcParams['figure.figsize'] = (12,5)\n",
    "plt.title('Countries with Most Perceptions of Corruption')\n",
    "plt.xlabel('Country', fontsize = 15)\n",
    "plt.ylabel('Corruption Index', fontsize = 15)\n",
    "plt.xticks(rotation = 30, ha='right')\n",
    "plt.bar(country.Country_name, country.Perceptions_of_corruption, color='royalblue')"
   ]
  },
  {
   "cell_type": "markdown",
   "id": "56351bc1",
   "metadata": {},
   "source": [
    "Scatter Plot between Corruption and Happiness"
   ]
  },
  {
   "cell_type": "code",
   "execution_count": null,
   "id": "6944d242",
   "metadata": {},
   "outputs": [],
   "source": [
    "plt.rcParams['figure.figsize'] = (15, 6)\n",
    "plt.title('Corruption vs Happiness')\n",
    "sb.scatterplot(x = happy_df.Happiness_score, y = happy_df.Perceptions_of_corruption, hue=happy_df.Regional_indicator, s=150)\n",
    "plt.legend(loc = 'lower left', fontsize = '13')\n",
    "plt.xlabel('Happiness Score')\n",
    "plt.ylabel('Corruption')"
   ]
  },
  {
   "cell_type": "code",
   "execution_count": null,
   "id": "42d40c4a",
   "metadata": {},
   "outputs": [],
   "source": []
  }
 ],
 "metadata": {
  "kernelspec": {
   "display_name": "Python 3",
   "language": "python",
   "name": "python3"
  },
  "language_info": {
   "codemirror_mode": {
    "name": "ipython",
    "version": 3
   },
   "file_extension": ".py",
   "mimetype": "text/x-python",
   "name": "python",
   "nbconvert_exporter": "python",
   "pygments_lexer": "ipython3",
   "version": "3.8.8"
  }
 },
 "nbformat": 4,
 "nbformat_minor": 5
}
